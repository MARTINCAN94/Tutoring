{
 "cells": [
  {
   "cell_type": "code",
   "execution_count": 3,
   "metadata": {},
   "outputs": [],
   "source": [
    "from selenium import webdriver\n",
    "from webdriver_auto_update import check_driver\n",
    "# Pass in the folder used for storing/downloading chromedriver\n",
    "#check_driver('./')\n",
    "driver = webdriver.Chrome()"
   ]
  },
  {
   "cell_type": "code",
   "execution_count": 8,
   "metadata": {},
   "outputs": [],
   "source": [
    "# 뉴욕타임즈가 켜진 뒤 키워드를 넣고 검색\n",
    "KEYWORD = 'virtual influencer'\n",
    "FILENAME = \"./BBC_20230805_virtual_influencer.xlsx\"\n",
    "last_page_num = 2\n",
    "page_delay = 2 # 초단위 \n",
    "\n",
    "driver.get('https://www.bbc.co.uk/search?q={}&page=1'.format(KEYWORD)) # 구글링->python string format "
   ]
  },
  {
   "cell_type": "code",
   "execution_count": 5,
   "metadata": {},
   "outputs": [
    {
     "name": "stderr",
     "output_type": "stream",
     "text": [
      "100%|██████████| 2/2 [00:06<00:00,  3.48s/it]\n"
     ]
    }
   ],
   "source": [
    "# 링크 수집부분 \n",
    "from bs4 import BeautifulSoup\n",
    "import time \n",
    "from tqdm import tqdm\n",
    "\n",
    "data_list = []\n",
    "\n",
    "url_format = 'https://www.bbc.co.uk/search?q={}&page={}'\n",
    "\n",
    "for page_idx in tqdm(range(1, last_page_num+1)):\n",
    "    driver.get(url_format.format(KEYWORD, page_idx))\n",
    "    time.sleep(page_delay)\n",
    "    \n",
    "    bs = BeautifulSoup(driver.page_source, 'lxml')\n",
    "    divs = bs.find_all('div', class_='ssrcss-11rb3jo-Promo ett16tt0')\n",
    "    for div in divs:\n",
    "        lis = div.find_all('li', {'role' :\"listitem\"})\n",
    "        if 'SiteNews' == lis[1].text.strip():\n",
    "            data_list.append([div.a.text, div.a['href']])            \n"
   ]
  },
  {
   "cell_type": "code",
   "execution_count": 14,
   "metadata": {},
   "outputs": [],
   "source": [
    "# 저장된 링크 엑셀로 저장\n",
    "from openpyxl import load_workbook, Workbook\n",
    "import os\n",
    "def save_excel(_FILENAME, _DATA):\n",
    "    book = Workbook()\n",
    "    sheet = book.active\n",
    "    sheet.title = 'result'\n",
    "    for data in _DATA:\n",
    "        sheet.append(data)\n",
    "    book.save(_FILENAME)\n",
    "    \n",
    "save_excel(FILENAME, data_list)"
   ]
  },
  {
   "cell_type": "code",
   "execution_count": null,
   "metadata": {},
   "outputs": [],
   "source": []
  }
 ],
 "metadata": {
  "kernelspec": {
   "display_name": "Python 3 (ipykernel)",
   "language": "python",
   "name": "python3"
  },
  "language_info": {
   "codemirror_mode": {
    "name": "ipython",
    "version": 3
   },
   "file_extension": ".py",
   "mimetype": "text/x-python",
   "name": "python",
   "nbconvert_exporter": "python",
   "pygments_lexer": "ipython3",
   "version": "3.9.12"
  }
 },
 "nbformat": 4,
 "nbformat_minor": 4
}
