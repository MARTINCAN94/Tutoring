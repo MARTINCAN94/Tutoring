{
 "cells": [
  {
   "cell_type": "code",
   "execution_count": 20,
   "metadata": {},
   "outputs": [],
   "source": [
    "from selenium import webdriver\n",
    "driver = webdriver.Chrome('./chromedriver')"
   ]
  },
  {
   "cell_type": "code",
   "execution_count": 21,
   "metadata": {},
   "outputs": [],
   "source": [
    "# 뉴욕타임즈가 켜진 뒤 키워드를 넣고 검색\n",
    "KEYWORD = 'military'\n",
    "FILENAME = \"BBC_202207_military.xlsx\"\n",
    "\n",
    "driver.get('https://www.bbc.co.uk/search?q={}&page=1'.format(KEYWORD)) # 구글링->python string format "
   ]
  },
  {
   "cell_type": "code",
   "execution_count": 17,
   "metadata": {},
   "outputs": [],
   "source": [
    "# Range 검색후 토탈 몇개가있는지 아래에 기입 !\n",
    "last_page_num = 29\n",
    "page_delay = 3 "
   ]
  },
  {
   "cell_type": "code",
   "execution_count": 18,
   "metadata": {},
   "outputs": [
    {
     "name": "stderr",
     "output_type": "stream",
     "text": [
      "\n",
      "  0%|          | 0/5 [00:00<?, ?it/s]\n",
      " 20%|██        | 1/5 [00:03<00:15,  3.99s/it]\n",
      " 40%|████      | 2/5 [00:08<00:11,  4.00s/it]\n",
      " 60%|██████    | 3/5 [00:12<00:08,  4.21s/it]\n",
      " 80%|████████  | 4/5 [00:17<00:04,  4.30s/it]\n",
      "100%|██████████| 5/5 [00:21<00:00,  4.35s/it]\n"
     ]
    }
   ],
   "source": [
    "# 링크 수집부분 \n",
    "from bs4 import BeautifulSoup\n",
    "import time \n",
    "from tqdm import tqdm\n",
    "\n",
    "data_list = []\n",
    "\n",
    "url_format = 'https://www.bbc.co.uk/search?q={}&page={}'\n",
    "\n",
    "for page_idx in tqdm(range(1, last_page_num+1)):\n",
    "    driver.get(url_format.format(KEYWORD, page_idx))\n",
    "    time.sleep(page_delay)\n",
    "    \n",
    "    bs = BeautifulSoup(driver.page_source, 'lxml')\n",
    "    divs = bs.find_all('div', class_='ssrcss-11rb3jo-Promo ett16tt0')\n",
    "    for div in divs:\n",
    "        lis = div.find_all('li', {'role' :\"listitem\"})\n",
    "        if 'SiteNews' == lis[1].text.strip():\n",
    "            data_list.append([div.a.text, div.a['href']])            \n"
   ]
  },
  {
   "cell_type": "code",
   "execution_count": 19,
   "metadata": {},
   "outputs": [],
   "source": [
    "# 저장된 링크 엑셀로 저장\n",
    "from openpyxl import load_workbook, Workbook\n",
    "import os\n",
    "def save_excel(_FILENAME, _DATA):\n",
    "    book = Workbook()\n",
    "    sheet = book.active\n",
    "    sheet.title = 'result'\n",
    "    for data in _DATA:\n",
    "        sheet.append(data)\n",
    "    book.save(_FILENAME)\n",
    "    \n",
    "save_excel(FILENAME, data_list)"
   ]
  },
  {
   "cell_type": "code",
   "execution_count": null,
   "metadata": {},
   "outputs": [],
   "source": []
  }
 ],
 "metadata": {
  "kernelspec": {
   "display_name": "Python 3",
   "language": "python",
   "name": "python3"
  },
  "language_info": {
   "codemirror_mode": {
    "name": "ipython",
    "version": 3
   },
   "file_extension": ".py",
   "mimetype": "text/x-python",
   "name": "python",
   "nbconvert_exporter": "python",
   "pygments_lexer": "ipython3",
   "version": "3.6.8"
  }
 },
 "nbformat": 4,
 "nbformat_minor": 4
}
