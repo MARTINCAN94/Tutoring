{
 "cells": [
  {
   "cell_type": "code",
   "execution_count": 1,
   "metadata": {},
   "outputs": [
    {
     "name": "stdout",
     "output_type": "stream",
     "text": [
      "총 25 개 링크 불러오기 완료\n"
     ]
    }
   ],
   "source": [
    "# 1. 저장된 엑셀파일의 기사링크들 불러오고\n",
    "FILENAME = 'BBC_202207_military.xlsx'\n",
    "\n",
    "#=========================================================================\n",
    "from openpyxl import  load_workbook\n",
    "tEx = load_workbook(filename=FILENAME)\n",
    "sheet1 = tEx.active\n",
    "link_list = []\n",
    "for i in sheet1.rows:\n",
    "    link_list.append(i[1].value)\n",
    "print(\"총 {} 개 링크 불러오기 완료\".format(len(link_list)))"
   ]
  },
  {
   "cell_type": "code",
   "execution_count": 2,
   "metadata": {},
   "outputs": [],
   "source": [
    "# 2. 크롬드라이버켜서 \n",
    "from selenium import webdriver\n",
    "driver = webdriver.Chrome('./chromedriver')\n",
    "driver.get('https://www.bbc.co.uk/') "
   ]
  },
  {
   "cell_type": "code",
   "execution_count": 22,
   "metadata": {},
   "outputs": [
    {
     "name": "stderr",
     "output_type": "stream",
     "text": [
      "\n",
      "\n",
      "  0%|          | 0/25 [00:00<?, ?it/s]\n",
      "\n",
      "  4%|▍         | 1/25 [00:06<02:30,  6.25s/it]\n",
      "\n",
      "  8%|▊         | 2/25 [00:11<02:17,  5.97s/it]\n",
      "\n",
      " 12%|█▏        | 3/25 [00:17<02:09,  5.87s/it]\n",
      "\n",
      " 16%|█▌        | 4/25 [00:23<02:08,  6.14s/it]\n",
      "\n",
      " 20%|██        | 5/25 [00:29<01:59,  5.99s/it]\n",
      "\n",
      " 24%|██▍       | 6/25 [00:34<01:48,  5.73s/it]\n",
      "\n",
      " 28%|██▊       | 7/25 [00:40<01:43,  5.72s/it]\n",
      "\n",
      " 32%|███▏      | 8/25 [00:46<01:36,  5.70s/it]\n",
      "\n",
      " 36%|███▌      | 9/25 [00:52<01:33,  5.81s/it]\n",
      "\n",
      " 40%|████      | 10/25 [00:57<01:27,  5.82s/it]\n",
      "\n",
      " 44%|████▍     | 11/25 [01:03<01:19,  5.71s/it]\n",
      "\n",
      " 48%|████▊     | 12/25 [01:08<01:11,  5.54s/it]\n",
      "\n",
      " 52%|█████▏    | 13/25 [01:14<01:06,  5.55s/it]\n",
      "\n",
      " 56%|█████▌    | 14/25 [01:19<01:01,  5.55s/it]\n",
      "\n",
      " 60%|██████    | 15/25 [01:25<00:55,  5.52s/it]\n",
      "\n",
      " 64%|██████▍   | 16/25 [01:35<01:02,  6.97s/it]\n",
      "\n",
      " 68%|██████▊   | 17/25 [01:45<01:02,  7.81s/it]\n",
      "\n",
      " 72%|███████▏  | 18/25 [01:55<00:59,  8.45s/it]\n",
      "\n",
      " 76%|███████▌  | 19/25 [02:04<00:52,  8.73s/it]\n",
      "\n",
      " 80%|████████  | 20/25 [02:11<00:41,  8.32s/it]\n",
      "\n",
      " 84%|████████▍ | 21/25 [02:18<00:30,  7.69s/it]\n",
      "\n",
      " 88%|████████▊ | 22/25 [02:28<00:25,  8.41s/it]\n",
      "\n",
      " 92%|█████████▏| 23/25 [02:32<00:14,  7.23s/it]\n",
      "\n",
      " 96%|█████████▌| 24/25 [02:42<00:07,  7.86s/it]\n",
      "\n",
      "100%|██████████| 25/25 [02:47<00:00,  6.71s/it]\n"
     ]
    }
   ],
   "source": [
    "# 3. 기사링크들 방문 \n",
    "# 4. 기사내용 본문 저장 !\n",
    "article_list = [] \n",
    "\n",
    "import time \n",
    "from bs4 import BeautifulSoup\n",
    "from tqdm import tqdm\n",
    "\n",
    "for link in tqdm(link_list):\n",
    "    try:\n",
    "        driver.get(link)\n",
    "    except:\n",
    "        time.sleep(3)\n",
    "        continue\n",
    "    time.sleep(3)\n",
    "    \n",
    "    try:\n",
    "        bs = BeautifulSoup(driver.page_source, 'lxml')\n",
    "        body = bs.find('article', class_='ssrcss-pv1rh6-ArticleWrapper').text.strip()\n",
    "        article_list.append([link, body])\n",
    "    except:\n",
    "        article_list.append([link, ''])"
   ]
  },
  {
   "cell_type": "code",
   "execution_count": 23,
   "metadata": {},
   "outputs": [],
   "source": [
    "# 5. 저장 \n",
    "FILENAME = \"본문_\"+FILENAME\n",
    "\n",
    "from openpyxl import load_workbook, Workbook\n",
    "import os\n",
    "def save_excel(_FILENAME, _DATA):\n",
    "    book = Workbook()\n",
    "    sheet = book.active\n",
    "    sheet.title = 'result'\n",
    "    for data in _DATA:\n",
    "        sheet.append(data)\n",
    "    book.save(_FILENAME)\n",
    "    \n",
    "save_excel(FILENAME, article_list)"
   ]
  },
  {
   "cell_type": "code",
   "execution_count": null,
   "metadata": {},
   "outputs": [],
   "source": []
  }
 ],
 "metadata": {
  "kernelspec": {
   "display_name": "Python 3",
   "language": "python",
   "name": "python3"
  },
  "language_info": {
   "codemirror_mode": {
    "name": "ipython",
    "version": 3
   },
   "file_extension": ".py",
   "mimetype": "text/x-python",
   "name": "python",
   "nbconvert_exporter": "python",
   "pygments_lexer": "ipython3",
   "version": "3.6.8"
  }
 },
 "nbformat": 4,
 "nbformat_minor": 4
}
