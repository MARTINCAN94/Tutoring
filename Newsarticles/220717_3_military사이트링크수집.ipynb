{
 "cells": [
  {
   "cell_type": "code",
   "execution_count": 1,
   "metadata": {},
   "outputs": [],
   "source": [
    "from selenium import webdriver\n",
    "driver = webdriver.Chrome()"
   ]
  },
  {
   "cell_type": "code",
   "execution_count": 2,
   "metadata": {},
   "outputs": [],
   "source": [
    "FILENAME = \"MT_202207_military.xlsx\"\n",
    "news_url = 'https://www.military.com/army'\n",
    "last_page_num = 3\n",
    "\n",
    "\n",
    "#=======================================\n",
    "sites = news_url.split('/')\n",
    "sites.insert(-1, 'topics')\n",
    "\n",
    "driver.get(\"/\".join(sites)) "
   ]
  },
  {
   "cell_type": "code",
   "execution_count": 10,
   "metadata": {},
   "outputs": [],
   "source": [
    "from bs4 import BeautifulSoup\n",
    "import time \n",
    "from tqdm import tqdm"
   ]
  },
  {
   "cell_type": "code",
   "execution_count": 27,
   "metadata": {},
   "outputs": [
    {
     "name": "stderr",
     "output_type": "stream",
     "text": [
      "100%|██████████| 3/3 [00:09<00:00,  3.06s/it]\n"
     ]
    }
   ],
   "source": [
    "base_url = 'https://www.military.com'\n",
    "url_format = \"/\".join(sites) + '?page='\n",
    "data_list = []\n",
    "\n",
    "for page_idx in tqdm(range(1, last_page_num+1)):\n",
    "    try:\n",
    "        driver.get(url_format + str(page_idx))\n",
    "    except:\n",
    "        time.sleep(2)\n",
    "        continue\n",
    "    time.sleep(3)\n",
    "    \n",
    "    bs = BeautifulSoup(driver.page_source, 'lxml')\n",
    "    div = bs.find('div', id='bodyContent').find('div', class_='list-view')\n",
    "    try:\n",
    "        articles = div.find_all('article')\n",
    "\n",
    "        for art in articles:\n",
    "            link = base_url+art['about']\n",
    "            title = art.find('span', class_='text--title').text.strip()\n",
    "            data_list.append([title,link])\n",
    "    except:\n",
    "        print(\"기사없음\")"
   ]
  },
  {
   "cell_type": "code",
   "execution_count": 31,
   "metadata": {},
   "outputs": [],
   "source": [
    "# 저장된 링크 엑셀로 저장\n",
    "from openpyxl import load_workbook, Workbook\n",
    "import os\n",
    "def save_excel(_FILENAME, _DATA):\n",
    "    book = Workbook()\n",
    "    sheet = book.active\n",
    "    sheet.title = 'result'\n",
    "    for data in _DATA:\n",
    "        sheet.append(data)\n",
    "    book.save(_FILENAME)\n",
    "    \n",
    "save_excel(FILENAME, data_list)"
   ]
  },
  {
   "cell_type": "code",
   "execution_count": null,
   "metadata": {},
   "outputs": [],
   "source": []
  }
 ],
 "metadata": {
  "kernelspec": {
   "display_name": "Python 3 (ipykernel)",
   "language": "python",
   "name": "python3"
  },
  "language_info": {
   "codemirror_mode": {
    "name": "ipython",
    "version": 3
   },
   "file_extension": ".py",
   "mimetype": "text/x-python",
   "name": "python",
   "nbconvert_exporter": "python",
   "pygments_lexer": "ipython3",
   "version": "3.9.12"
  }
 },
 "nbformat": 4,
 "nbformat_minor": 4
}
