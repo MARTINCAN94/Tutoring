{
 "cells": [
  {
   "cell_type": "code",
   "execution_count": 1,
   "metadata": {},
   "outputs": [
    {
     "name": "stdout",
     "output_type": "stream",
     "text": [
      "총 10 개 링크 불러오기 완료\n"
     ]
    }
   ],
   "source": [
    "# 1. 저장된 엑셀파일의 기사링크들 불러오고\n",
    "FILENAME = 'MT_202207_military.xlsx'\n",
    "\n",
    "#=========================================================================\n",
    "from openpyxl import  load_workbook\n",
    "tEx = load_workbook(filename=FILENAME)\n",
    "sheet1 = tEx.active\n",
    "link_list = []\n",
    "for i in sheet1.rows:\n",
    "    link_list.append(i[1].value)\n",
    "print(\"총 {} 개 링크 불러오기 완료\".format(len(link_list)))"
   ]
  },
  {
   "cell_type": "code",
   "execution_count": 2,
   "metadata": {},
   "outputs": [],
   "source": [
    "# 2. 크롬드라이버켜서 \n",
    "from selenium import webdriver\n",
    "driver = webdriver.Chrome('./chromedriver')\n",
    "driver.get('https://www.military.com/') "
   ]
  },
  {
   "cell_type": "code",
   "execution_count": 9,
   "metadata": {},
   "outputs": [
    {
     "name": "stderr",
     "output_type": "stream",
     "text": [
      "100%|██████████| 10/10 [00:53<00:00,  5.35s/it]\n"
     ]
    }
   ],
   "source": [
    "# 3. 기사링크들 방문 \n",
    "# 4. 기사내용 본문 저장 !\n",
    "article_list = [] \n",
    "\n",
    "import time \n",
    "from bs4 import BeautifulSoup\n",
    "from tqdm import tqdm\n",
    "\n",
    "for link in tqdm(link_list):\n",
    "    try:\n",
    "        driver.get(link)\n",
    "    except:\n",
    "        time.sleep(3)\n",
    "        continue\n",
    "    time.sleep(3)\n",
    "    \n",
    "    try:\n",
    "        bs = BeautifulSoup(driver.page_source, 'lxml')\n",
    "        body = bs.find('div', class_='article__body').text.strip()\n",
    "        article_list.append([link, body])\n",
    "    except:\n",
    "        article_list.append([link, ''])"
   ]
  },
  {
   "cell_type": "code",
   "execution_count": 10,
   "metadata": {},
   "outputs": [],
   "source": [
    "# 5. 저장 \n",
    "FILENAME = \"본문_\"+FILENAME\n",
    "\n",
    "from openpyxl import load_workbook, Workbook\n",
    "import os\n",
    "def save_excel(_FILENAME, _DATA):\n",
    "    book = Workbook()\n",
    "    sheet = book.active\n",
    "    sheet.title = 'result'\n",
    "    for data in _DATA:\n",
    "        sheet.append(data)\n",
    "    book.save(_FILENAME)\n",
    "    \n",
    "save_excel(FILENAME, article_list)"
   ]
  },
  {
   "cell_type": "code",
   "execution_count": null,
   "metadata": {},
   "outputs": [],
   "source": []
  }
 ],
 "metadata": {
  "kernelspec": {
   "display_name": "Python 3",
   "language": "python",
   "name": "python3"
  },
  "language_info": {
   "codemirror_mode": {
    "name": "ipython",
    "version": 3
   },
   "file_extension": ".py",
   "mimetype": "text/x-python",
   "name": "python",
   "nbconvert_exporter": "python",
   "pygments_lexer": "ipython3",
   "version": "3.6.8"
  }
 },
 "nbformat": 4,
 "nbformat_minor": 4
}
