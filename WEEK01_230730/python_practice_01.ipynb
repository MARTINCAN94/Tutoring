{
 "cells": [
  {
   "cell_type": "code",
   "execution_count": 1,
   "id": "3aacc366-7514-452b-9a08-dc364b2a4dfc",
   "metadata": {},
   "outputs": [],
   "source": [
    "# 자료형"
   ]
  },
  {
   "cell_type": "code",
   "execution_count": 3,
   "id": "eac17399-561e-4652-a6f7-fd9aacc564aa",
   "metadata": {},
   "outputs": [],
   "source": [
    "# 리스트"
   ]
  },
  {
   "cell_type": "code",
   "execution_count": null,
   "id": "541bd12b-34f2-450f-ade0-0ec9b3de718e",
   "metadata": {},
   "outputs": [],
   "source": [
    "# if"
   ]
  },
  {
   "cell_type": "code",
   "execution_count": 4,
   "id": "f0df6176-5c02-4837-aca6-610589854c80",
   "metadata": {},
   "outputs": [],
   "source": [
    "# for문"
   ]
  },
  {
   "cell_type": "code",
   "execution_count": null,
   "id": "d5ce13cc-5629-4346-be6b-be11f99d2e26",
   "metadata": {},
   "outputs": [],
   "source": [
    "# 함수"
   ]
  }
 ],
 "metadata": {
  "kernelspec": {
   "display_name": "Python 3 (ipykernel)",
   "language": "python",
   "name": "python3"
  },
  "language_info": {
   "codemirror_mode": {
    "name": "ipython",
    "version": 3
   },
   "file_extension": ".py",
   "mimetype": "text/x-python",
   "name": "python",
   "nbconvert_exporter": "python",
   "pygments_lexer": "ipython3",
   "version": "3.9.12"
  }
 },
 "nbformat": 4,
 "nbformat_minor": 5
}
