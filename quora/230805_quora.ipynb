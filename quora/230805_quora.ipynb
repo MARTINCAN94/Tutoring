{
 "cells": [
  {
   "cell_type": "code",
   "execution_count": 7,
   "id": "33f460e9",
   "metadata": {},
   "outputs": [],
   "source": [
    "from selenium import webdriver\n",
    "from selenium.webdriver.chrome.service import Service\n",
    "from selenium.webdriver.common.by import By\n",
    "from selenium.webdriver.common.keys import Keys\n",
    "from selenium.webdriver.common.action_chains import ActionChains\n",
    "from selenium.common.exceptions import NoSuchElementException\n",
    "\n",
    "from webdriver_manager.chrome import ChromeDriverManager\n",
    "\n",
    "from bs4 import BeautifulSoup\n",
    "\n",
    "import time\n",
    "\n",
    "from openpyxl import Workbook\n",
    "from tqdm import tqdm\n",
    "\n",
    "def get_driver():\n",
    "    chrome_options = webdriver.ChromeOptions()\n",
    "    version = '115.0.5790.111'\n",
    "    try:\n",
    "        driver = webdriver.Chrome(service=Service(ChromeDriverManager(version).install()), \n",
    "                              options=chrome_options)\n",
    "    except:\n",
    "        driver = webdriver.Chrome()\n",
    "    return driver\n",
    "\n",
    "def send_key(_xpath, _txt):\n",
    "    driver.find_element(By.XPATH, _xpath).clear()\n",
    "    time.sleep(0.1)\n",
    "    driver.find_element(By.XPATH, _xpath).send_keys(_txt)\n",
    "\n",
    "    \n",
    "def click(_xpath):\n",
    "    driver.find_element(By.XPATH, _xpath).click()\n",
    "    \n",
    "    \n",
    "def get_text(_xpath):\n",
    "    return driver.find_element(By.XPATH, _xpath).text.strip()\n",
    "\n",
    "def save_excel(_FILENAME, _DATA, _HEADER):\n",
    "    book = Workbook()\n",
    "    sheet = book.active\n",
    "    sheet.title = 'result'\n",
    "    sheet.append(_HEADER)\n",
    "    sheet.column_dimensions['A'].width = 30\n",
    "    sheet.column_dimensions['B'].width = 50\n",
    "    sheet.column_dimensions['C'].width = 200\n",
    "    for data in _DATA:\n",
    "        sheet.append(data)\n",
    "    book.save(_FILENAME)"
   ]
  },
  {
   "cell_type": "code",
   "execution_count": 4,
   "id": "2fc991d1",
   "metadata": {},
   "outputs": [],
   "source": [
    "driver = get_driver()\n",
    "driver.get('https://www.quora.com/search?q=virtual%20influencer')\n",
    "WANT_MIN_NUM = 20 # 20개 아티클\n",
    "SAVE_FILE = '테스트.xlsx'"
   ]
  },
  {
   "cell_type": "code",
   "execution_count": 9,
   "id": "80442196",
   "metadata": {},
   "outputs": [],
   "source": [
    "while True:\n",
    "    bs = BeautifulSoup(driver.page_source, 'lxml')\n",
    "    divs = bs.find_all('div', class_='q-box qu-borderBottom qu-p--medium qu-pb--tiny')\n",
    "    if WANT_MIN_NUM > len(divs):\n",
    "        body = driver.find_element(By.TAG_NAME, 'body')\n",
    "        body.send_keys(Keys.PAGE_DOWN)\n",
    "        time.sleep(0.5)\n",
    "        body.send_keys(Keys.PAGE_DOWN)\n",
    "    else:\n",
    "        break"
   ]
  },
  {
   "cell_type": "code",
   "execution_count": 10,
   "id": "8c2e22a6",
   "metadata": {},
   "outputs": [
    {
     "name": "stderr",
     "output_type": "stream",
     "text": [
      "100%|██████████████████████████████████████████████████████████████████████████████████| 22/22 [00:12<00:00,  1.82it/s]\n"
     ]
    }
   ],
   "source": [
    "action = ActionChains(driver)\n",
    "more_xpath = '//*[@id=\"mainContent\"]/div/div/div[2]/div[{}]/div/div[1]/div/div[1]/div[2]/div/div/div[2]/div'\n",
    "bs = BeautifulSoup(driver.page_source, 'lxml')\n",
    "divs = bs.find_all('div', class_='q-box qu-borderBottom qu-p--medium qu-pb--tiny')\n",
    "for i in tqdm(range(1, len(divs)+1)):\n",
    "    try:\n",
    "        element = driver.find_element(By.XPATH, more_xpath.format(i))\n",
    "        action.move_to_element(element).click().perform()\n",
    "    except NoSuchElementException:\n",
    "        pass\n",
    "    time.sleep(0.2)"
   ]
  },
  {
   "cell_type": "code",
   "execution_count": 11,
   "id": "fe6867e4",
   "metadata": {},
   "outputs": [],
   "source": [
    "\"\"\"\n",
    "Title Link 답변 \n",
    "\"\"\"\n",
    "data_list = [] \n",
    "bs = BeautifulSoup(driver.page_source, 'lxml')\n",
    "divs = bs.find_all('div', class_='q-box qu-borderBottom qu-p--medium qu-pb--tiny')\n",
    "for div in divs:\n",
    "    a_tag = div.find('a', class_='q-box Link___StyledBox-t2xg9c-0 dFkjrQ puppeteer_test_link qu-display--block qu-cursor--pointer qu-hover--textDecoration--underline')\n",
    "    타이틀 = a_tag.text.strip()\n",
    "    링크 = a_tag['href']\n",
    "    p_tags = div.find_all('p', class_='q-text qu-display--block qu-wordBreak--break-word qu-textAlign--start')\n",
    "    본문 = ''\n",
    "    for p in p_tags:\n",
    "        본문 += p.text.strip()\n",
    "    data_list.append([타이틀, 링크, 본문])"
   ]
  },
  {
   "cell_type": "code",
   "execution_count": 12,
   "id": "6baab54e",
   "metadata": {},
   "outputs": [],
   "source": [
    "save_excel(SAVE_FILE, data_list, ['타이틀', \"링크\", \"본문\"])"
   ]
  },
  {
   "cell_type": "code",
   "execution_count": null,
   "id": "6b179869",
   "metadata": {},
   "outputs": [],
   "source": []
  }
 ],
 "metadata": {
  "kernelspec": {
   "display_name": "Python 3 (ipykernel)",
   "language": "python",
   "name": "python3"
  },
  "language_info": {
   "codemirror_mode": {
    "name": "ipython",
    "version": 3
   },
   "file_extension": ".py",
   "mimetype": "text/x-python",
   "name": "python",
   "nbconvert_exporter": "python",
   "pygments_lexer": "ipython3",
   "version": "3.10.5"
  }
 },
 "nbformat": 4,
 "nbformat_minor": 5
}
